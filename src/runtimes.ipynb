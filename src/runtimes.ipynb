{
 "cells": [
  {
   "cell_type": "code",
   "execution_count": 1,
   "metadata": {},
   "outputs": [],
   "source": [
    "import numpy as np\n",
    "import time\n",
    "\n",
    "import TOV_class"
   ]
  },
  {
   "cell_type": "code",
   "execution_count": null,
   "metadata": {},
   "outputs": [
    {
     "name": "stdout",
     "output_type": "stream",
     "text": [
      "Woo it worked!\n",
      "Max mass:  2.946812277645413 Radius:  14.7633731288 Central pressure:  217.14620729853158\n",
      "9.69019079208374\n",
      "Woo it worked!\n",
      "Max mass:  2.946812277645413 Radius:  14.7633731288 Central pressure:  217.14620729853158\n",
      "9.460471153259277\n",
      "Woo it worked!\n",
      "Max mass:  2.946812277645413 Radius:  14.7633731288 Central pressure:  217.14620729853158\n",
      "9.427962303161621\n",
      "Woo it worked!\n",
      "Max mass:  2.946812277645413 Radius:  14.7633731288 Central pressure:  217.14620729853158\n",
      "9.461225032806396\n",
      "Woo it worked!\n",
      "Max mass:  2.946812277645413 Radius:  14.7633731288 Central pressure:  217.14620729853158\n",
      "9.423739910125732\n",
      "Woo it worked!\n",
      "Max mass:  2.946812277645413 Radius:  14.7633731288 Central pressure:  217.14620729853158\n",
      "9.630391120910645\n",
      "Woo it worked!\n",
      "Max mass:  2.946812277645413 Radius:  14.7633731288 Central pressure:  217.14620729853158\n",
      "9.606220960617065\n",
      "Woo it worked!\n",
      "Max mass:  2.946812277645413 Radius:  14.7633731288 Central pressure:  217.14620729853158\n",
      "9.596246004104614\n",
      "Woo it worked!\n",
      "Max mass:  2.946812277645413 Radius:  14.7633731288 Central pressure:  217.14620729853158\n",
      "9.531841039657593\n",
      "Woo it worked!\n",
      "Max mass:  2.946812277645413 Radius:  14.7633731288 Central pressure:  217.14620729853158\n",
      "9.562387943267822\n"
     ]
    }
   ],
   "source": [
    "# number_of_solves = 10\n",
    "\n",
    "# time_array = []\n",
    "# for i in np.arange(number_of_solves):\n",
    "#     tov = TOV_class.TOVsolver(\"./../EOS_files/Quarkies/EOS_Quarkyonia_300.00_0.19.dat\", True)\n",
    "    \n",
    "#     time_initial = time.time()\n",
    "#     tov.tov_routine(verbose=False, write_to_file=False)\n",
    "#     time_final = time.time()\n",
    "    \n",
    "#     print(time_final - time_initial)\n",
    "#     time_array.append(time_final - time_initial)\n",
    "\n",
    "# time_array = np.array(time_array)\n",
    "time_array = np.array([9.69019079, 9.46047115, 9.4279623 , 9.46122503, 9.42373991,\n",
    "                       9.63039112, 9.60622096, 9.596246  , 9.53184104, 9.56238794])"
   ]
  },
  {
   "cell_type": "code",
   "execution_count": 10,
   "metadata": {},
   "outputs": [
    {
     "data": {
      "text/plain": [
       "array([9.69019079, 9.46047115, 9.4279623 , 9.46122503, 9.42373991,\n",
       "       9.63039112, 9.60622096, 9.596246  , 9.53184104, 9.56238794])"
      ]
     },
     "execution_count": 10,
     "metadata": {},
     "output_type": "execute_result"
    }
   ],
   "source": [
    "time_array"
   ]
  },
  {
   "cell_type": "code",
   "execution_count": 3,
   "metadata": {},
   "outputs": [
    {
     "data": {
      "text/plain": [
       "9.547114491462708"
      ]
     },
     "execution_count": 3,
     "metadata": {},
     "output_type": "execute_result"
    }
   ],
   "source": [
    "np.median(time_array)"
   ]
  },
  {
   "cell_type": "code",
   "execution_count": null,
   "metadata": {},
   "outputs": [],
   "source": []
  },
  {
   "cell_type": "code",
   "execution_count": null,
   "metadata": {},
   "outputs": [],
   "source": []
  },
  {
   "cell_type": "markdown",
   "metadata": {},
   "source": [
    "## SLM runtimes"
   ]
  },
  {
   "cell_type": "code",
   "execution_count": 4,
   "metadata": {},
   "outputs": [],
   "source": [
    "# # for parametricSLM.py\n",
    "\n",
    "# runtimes_0 = {\n",
    "#     \"MR_Quarkyonia_300.00_0.19.dat\": 0.0006852149963378906,\n",
    "#     \"MR_Quarkyonia_321.05_0.28.dat\": 0.00067901611328125,\n",
    "#     \"MR_Quarkyonia_352.63_0.14.dat\": 0.0006859302520751953,\n",
    "#     \"MR_Quarkyonia_373.68_0.23.dat\": 0.0008580684661865234,\n",
    "#     \"MR_Quarkyonia_405.26_0.10.dat\": 0.0006730556488037109,\n",
    "#     \"MR_Quarkyonia_426.32_0.19.dat\": 0.0007081031799316406,\n",
    "#     \"MR_Quarkyonia_447.37_0.28.dat\": 0.0006809234619140625,\n",
    "#     \"MR_Quarkyonia_478.95_0.14.dat\": 0.0006737709045410156,\n",
    "#     \"MR_Quarkyonia_500.00_0.23.dat\": 0.0006892681121826172\n",
    "# }\n",
    "# runtimes_1 = {\n",
    "#     \"MR_Quarkyonia_300.00_0.19.dat\": 0.0006859302520751953,\n",
    "#     \"MR_Quarkyonia_321.05_0.28.dat\": 0.0006878376007080078,\n",
    "#     \"MR_Quarkyonia_352.63_0.14.dat\": 0.0007109642028808594,\n",
    "#     \"MR_Quarkyonia_373.68_0.23.dat\": 0.000885009765625,\n",
    "#     \"MR_Quarkyonia_405.26_0.10.dat\": 0.0011227130889892578,\n",
    "#     \"MR_Quarkyonia_426.32_0.19.dat\": 0.0007379055023193359,\n",
    "#     \"MR_Quarkyonia_447.37_0.28.dat\": 0.0007119178771972656,\n",
    "#     \"MR_Quarkyonia_478.95_0.14.dat\": 0.0006802082061767578,\n",
    "#     \"MR_Quarkyonia_500.00_0.23.dat\": 0.0007121562957763672\n",
    "# }\n",
    "# runtimes_2 = {\n",
    "#     \"MR_Quarkyonia_300.00_0.19.dat\": 0.0006909370422363281,\n",
    "#     \"MR_Quarkyonia_321.05_0.28.dat\": 0.0006783008575439453,\n",
    "#     \"MR_Quarkyonia_352.63_0.14.dat\": 0.0006880760192871094,\n",
    "#     \"MR_Quarkyonia_373.68_0.23.dat\": 0.00086212158203125,\n",
    "#     \"MR_Quarkyonia_405.26_0.10.dat\": 0.0009479522705078125,\n",
    "#     \"MR_Quarkyonia_426.32_0.19.dat\": 0.0007238388061523438,\n",
    "#     \"MR_Quarkyonia_447.37_0.28.dat\": 0.0006740093231201172,\n",
    "#     \"MR_Quarkyonia_478.95_0.14.dat\": 0.0007028579711914062,\n",
    "#     \"MR_Quarkyonia_500.00_0.23.dat\": 0.0006909370422363281\n",
    "# }\n",
    "# runtimes_3 = {\n",
    "#     \"MR_Quarkyonia_300.00_0.19.dat\": 0.0006880760192871094,\n",
    "#     \"MR_Quarkyonia_321.05_0.28.dat\": 0.0006899833679199219,\n",
    "#     \"MR_Quarkyonia_352.63_0.14.dat\": 0.0006990432739257812,\n",
    "#     \"MR_Quarkyonia_373.68_0.23.dat\": 0.0008597373962402344,\n",
    "#     \"MR_Quarkyonia_405.26_0.10.dat\": 0.0006909370422363281,\n",
    "#     \"MR_Quarkyonia_426.32_0.19.dat\": 0.00072479248046875,\n",
    "#     \"MR_Quarkyonia_447.37_0.28.dat\": 0.0006961822509765625,\n",
    "#     \"MR_Quarkyonia_478.95_0.14.dat\": 0.0006871223449707031,\n",
    "#     \"MR_Quarkyonia_500.00_0.23.dat\": 0.0007238388061523438\n",
    "# }\n",
    "# runtimes_4 = {\n",
    "#     \"MR_Quarkyonia_300.00_0.19.dat\": 0.0006849765777587891,\n",
    "#     \"MR_Quarkyonia_321.05_0.28.dat\": 0.0006847381591796875,\n",
    "#     \"MR_Quarkyonia_352.63_0.14.dat\": 0.0006771087646484375,\n",
    "#     \"MR_Quarkyonia_373.68_0.23.dat\": 0.0008537769317626953,\n",
    "#     \"MR_Quarkyonia_405.26_0.10.dat\": 0.000698089599609375,\n",
    "#     \"MR_Quarkyonia_426.32_0.19.dat\": 0.0007081031799316406,\n",
    "#     \"MR_Quarkyonia_447.37_0.28.dat\": 0.0006961822509765625,\n",
    "#     \"MR_Quarkyonia_478.95_0.14.dat\": 0.0006699562072753906,\n",
    "#     \"MR_Quarkyonia_500.00_0.23.dat\": 0.0006899833679199219\n",
    "# }\n",
    "# runtimes_5 = {\n",
    "#     \"MR_Quarkyonia_300.00_0.19.dat\": 0.0006892681121826172,\n",
    "#     \"MR_Quarkyonia_321.05_0.28.dat\": 0.0006799697875976562,\n",
    "#     \"MR_Quarkyonia_352.63_0.14.dat\": 0.0006930828094482422,\n",
    "#     \"MR_Quarkyonia_373.68_0.23.dat\": 0.0008749961853027344,\n",
    "#     \"MR_Quarkyonia_405.26_0.10.dat\": 0.0006749629974365234,\n",
    "#     \"MR_Quarkyonia_426.32_0.19.dat\": 0.0007259845733642578,\n",
    "#     \"MR_Quarkyonia_447.37_0.28.dat\": 0.0006749629974365234,\n",
    "#     \"MR_Quarkyonia_478.95_0.14.dat\": 0.0006771087646484375,\n",
    "#     \"MR_Quarkyonia_500.00_0.23.dat\": 0.0006971359252929688\n",
    "# }\n",
    "# runtimes_6 = {\n",
    "#     \"MR_Quarkyonia_300.00_0.19.dat\": 0.000682830810546875,\n",
    "#     \"MR_Quarkyonia_321.05_0.28.dat\": 0.0006730556488037109,\n",
    "#     \"MR_Quarkyonia_352.63_0.14.dat\": 0.0006818771362304688,\n",
    "#     \"MR_Quarkyonia_373.68_0.23.dat\": 0.0008740425109863281,\n",
    "#     \"MR_Quarkyonia_405.26_0.10.dat\": 0.0008289813995361328,\n",
    "#     \"MR_Quarkyonia_426.32_0.19.dat\": 0.0007219314575195312,\n",
    "#     \"MR_Quarkyonia_447.37_0.28.dat\": 0.0006740093231201172,\n",
    "#     \"MR_Quarkyonia_478.95_0.14.dat\": 0.0007519721984863281,\n",
    "#     \"MR_Quarkyonia_500.00_0.23.dat\": 0.0006940364837646484\n",
    "# }\n",
    "# runtimes_7 = {\n",
    "#     \"MR_Quarkyonia_300.00_0.19.dat\": 0.0006537437438964844,\n",
    "#     \"MR_Quarkyonia_321.05_0.28.dat\": 0.0006620883941650391,\n",
    "#     \"MR_Quarkyonia_352.63_0.14.dat\": 0.0006461143493652344,\n",
    "#     \"MR_Quarkyonia_373.68_0.23.dat\": 0.0008380413055419922,\n",
    "#     \"MR_Quarkyonia_405.26_0.10.dat\": 0.0006592273712158203,\n",
    "#     \"MR_Quarkyonia_426.32_0.19.dat\": 0.0006821155548095703,\n",
    "#     \"MR_Quarkyonia_447.37_0.28.dat\": 0.0006377696990966797,\n",
    "#     \"MR_Quarkyonia_478.95_0.14.dat\": 0.0006372928619384766,\n",
    "#     \"MR_Quarkyonia_500.00_0.23.dat\": 0.0006630420684814453\n",
    "# }\n",
    "# runtimes_8 = {\n",
    "#     \"MR_Quarkyonia_300.00_0.19.dat\": 0.0006930828094482422,\n",
    "#     \"MR_Quarkyonia_321.05_0.28.dat\": 0.0006902217864990234,\n",
    "#     \"MR_Quarkyonia_352.63_0.14.dat\": 0.0006771087646484375,\n",
    "#     \"MR_Quarkyonia_373.68_0.23.dat\": 0.0008459091186523438,\n",
    "#     \"MR_Quarkyonia_405.26_0.10.dat\": 0.0006687641143798828,\n",
    "#     \"MR_Quarkyonia_426.32_0.19.dat\": 0.0007040500640869141,\n",
    "#     \"MR_Quarkyonia_447.37_0.28.dat\": 0.0006709098815917969,\n",
    "#     \"MR_Quarkyonia_478.95_0.14.dat\": 0.0006890296936035156,\n",
    "#     \"MR_Quarkyonia_500.00_0.23.dat\": 0.0006830692291259766\n",
    "# }\n",
    "# runtimes_9 = {\n",
    "#     \"MR_Quarkyonia_300.00_0.19.dat\": 0.0009157657623291016,\n",
    "#     \"MR_Quarkyonia_321.05_0.28.dat\": 0.0006890296936035156,\n",
    "#     \"MR_Quarkyonia_352.63_0.14.dat\": 0.000705718994140625,\n",
    "#     \"MR_Quarkyonia_373.68_0.23.dat\": 0.0008728504180908203,\n",
    "#     \"MR_Quarkyonia_405.26_0.10.dat\": 0.0007088184356689453,\n",
    "#     \"MR_Quarkyonia_426.32_0.19.dat\": 0.0007188320159912109,\n",
    "#     \"MR_Quarkyonia_447.37_0.28.dat\": 0.0006852149963378906,\n",
    "#     \"MR_Quarkyonia_478.95_0.14.dat\": 0.0007441043853759766,\n",
    "#     \"MR_Quarkyonia_500.00_0.23.dat\": 0.0006930828094482422\n",
    "# }"
   ]
  },
  {
   "cell_type": "code",
   "execution_count": 5,
   "metadata": {},
   "outputs": [],
   "source": [
    "runtimes_0 = {\n",
    "    \"MR_Quarkyonia_300.00_0.19.dat\": 0.0003821849822998047,\n",
    "    \"MR_Quarkyonia_321.05_0.28.dat\": 0.00038313865661621094,\n",
    "    \"MR_Quarkyonia_352.63_0.14.dat\": 0.0003910064697265625,\n",
    "    \"MR_Quarkyonia_373.68_0.23.dat\": 0.0005030632019042969,\n",
    "    \"MR_Quarkyonia_405.26_0.10.dat\": 0.00037598609924316406,\n",
    "    \"MR_Quarkyonia_426.32_0.19.dat\": 0.00041604042053222656,\n",
    "    \"MR_Quarkyonia_447.37_0.28.dat\": 0.00039196014404296875,\n",
    "    \"MR_Quarkyonia_478.95_0.14.dat\": 0.0003788471221923828,\n",
    "    \"MR_Quarkyonia_500.00_0.23.dat\": 0.00039696693420410156\n",
    "}\n",
    "runtimes_1 = {\n",
    "    \"MR_Quarkyonia_300.00_0.19.dat\": 0.0005152225494384766,\n",
    "    \"MR_Quarkyonia_321.05_0.28.dat\": 0.00038313865661621094,\n",
    "    \"MR_Quarkyonia_352.63_0.14.dat\": 0.0003960132598876953,\n",
    "    \"MR_Quarkyonia_373.68_0.23.dat\": 0.0006241798400878906,\n",
    "    \"MR_Quarkyonia_405.26_0.10.dat\": 0.0004112720489501953,\n",
    "    \"MR_Quarkyonia_426.32_0.19.dat\": 0.00043582916259765625,\n",
    "    \"MR_Quarkyonia_447.37_0.28.dat\": 0.00038504600524902344,\n",
    "    \"MR_Quarkyonia_478.95_0.14.dat\": 0.00045800209045410156,\n",
    "    \"MR_Quarkyonia_500.00_0.23.dat\": 0.0004119873046875\n",
    "}\n",
    "runtimes_2 = {\n",
    "    \"MR_Quarkyonia_300.00_0.19.dat\": 0.00039196014404296875,\n",
    "    \"MR_Quarkyonia_321.05_0.28.dat\": 0.0003948211669921875,\n",
    "    \"MR_Quarkyonia_352.63_0.14.dat\": 0.0004050731658935547,\n",
    "    \"MR_Quarkyonia_373.68_0.23.dat\": 0.0005178451538085938,\n",
    "    \"MR_Quarkyonia_405.26_0.10.dat\": 0.0003802776336669922,\n",
    "    \"MR_Quarkyonia_426.32_0.19.dat\": 0.00043487548828125,\n",
    "    \"MR_Quarkyonia_447.37_0.28.dat\": 0.00039386749267578125,\n",
    "    \"MR_Quarkyonia_478.95_0.14.dat\": 0.00038504600524902344,\n",
    "    \"MR_Quarkyonia_500.00_0.23.dat\": 0.0004329681396484375\n",
    "}\n",
    "runtimes_3 = {\n",
    "    \"MR_Quarkyonia_300.00_0.19.dat\": 0.00040078163146972656,\n",
    "    \"MR_Quarkyonia_321.05_0.28.dat\": 0.0003941059112548828,\n",
    "    \"MR_Quarkyonia_352.63_0.14.dat\": 0.0003838539123535156,\n",
    "    \"MR_Quarkyonia_373.68_0.23.dat\": 0.0005090236663818359,\n",
    "    \"MR_Quarkyonia_405.26_0.10.dat\": 0.0003719329833984375,\n",
    "    \"MR_Quarkyonia_426.32_0.19.dat\": 0.0004100799560546875,\n",
    "    \"MR_Quarkyonia_447.37_0.28.dat\": 0.0003840923309326172,\n",
    "    \"MR_Quarkyonia_478.95_0.14.dat\": 0.0003788471221923828,\n",
    "    \"MR_Quarkyonia_500.00_0.23.dat\": 0.0003898143768310547\n",
    "}\n",
    "runtimes_4 = {\n",
    "    \"MR_Quarkyonia_300.00_0.19.dat\": 0.0005922317504882812,\n",
    "    \"MR_Quarkyonia_321.05_0.28.dat\": 0.00038504600524902344,\n",
    "    \"MR_Quarkyonia_352.63_0.14.dat\": 0.00038504600524902344,\n",
    "    \"MR_Quarkyonia_373.68_0.23.dat\": 0.0005261898040771484,\n",
    "    \"MR_Quarkyonia_405.26_0.10.dat\": 0.0004360675811767578,\n",
    "    \"MR_Quarkyonia_426.32_0.19.dat\": 0.00041604042053222656,\n",
    "    \"MR_Quarkyonia_447.37_0.28.dat\": 0.0003790855407714844,\n",
    "    \"MR_Quarkyonia_478.95_0.14.dat\": 0.00041675567626953125,\n",
    "    \"MR_Quarkyonia_500.00_0.23.dat\": 0.0003781318664550781\n",
    "}\n",
    "runtimes_5 = {\n",
    "    \"MR_Quarkyonia_300.00_0.19.dat\": 0.0003819465637207031,\n",
    "    \"MR_Quarkyonia_321.05_0.28.dat\": 0.0003840923309326172,\n",
    "    \"MR_Quarkyonia_352.63_0.14.dat\": 0.0004107952117919922,\n",
    "    \"MR_Quarkyonia_373.68_0.23.dat\": 0.0005168914794921875,\n",
    "    \"MR_Quarkyonia_405.26_0.10.dat\": 0.00037598609924316406,\n",
    "    \"MR_Quarkyonia_426.32_0.19.dat\": 0.0004069805145263672,\n",
    "    \"MR_Quarkyonia_447.37_0.28.dat\": 0.0003838539123535156,\n",
    "    \"MR_Quarkyonia_478.95_0.14.dat\": 0.0003788471221923828,\n",
    "    \"MR_Quarkyonia_500.00_0.23.dat\": 0.0003871917724609375\n",
    "}\n",
    "runtimes_6 = {\n",
    "    \"MR_Quarkyonia_300.00_0.19.dat\": 0.0003871917724609375,\n",
    "    \"MR_Quarkyonia_321.05_0.28.dat\": 0.0004551410675048828,\n",
    "    \"MR_Quarkyonia_352.63_0.14.dat\": 0.00040793418884277344,\n",
    "    \"MR_Quarkyonia_373.68_0.23.dat\": 0.0005121231079101562,\n",
    "    \"MR_Quarkyonia_405.26_0.10.dat\": 0.00037407875061035156,\n",
    "    \"MR_Quarkyonia_426.32_0.19.dat\": 0.00041103363037109375,\n",
    "    \"MR_Quarkyonia_447.37_0.28.dat\": 0.0004260540008544922,\n",
    "    \"MR_Quarkyonia_478.95_0.14.dat\": 0.0003819465637207031,\n",
    "    \"MR_Quarkyonia_500.00_0.23.dat\": 0.0003998279571533203\n",
    "}\n",
    "runtimes_7 = {\n",
    "    \"MR_Quarkyonia_300.00_0.19.dat\": 0.0003981590270996094,\n",
    "    \"MR_Quarkyonia_321.05_0.28.dat\": 0.0004069805145263672,\n",
    "    \"MR_Quarkyonia_352.63_0.14.dat\": 0.00041604042053222656,\n",
    "    \"MR_Quarkyonia_373.68_0.23.dat\": 0.0007250308990478516,\n",
    "    \"MR_Quarkyonia_405.26_0.10.dat\": 0.000392913818359375,\n",
    "    \"MR_Quarkyonia_426.32_0.19.dat\": 0.00045013427734375,\n",
    "    \"MR_Quarkyonia_447.37_0.28.dat\": 0.00039196014404296875,\n",
    "    \"MR_Quarkyonia_478.95_0.14.dat\": 0.000392913818359375,\n",
    "    \"MR_Quarkyonia_500.00_0.23.dat\": 0.00041294097900390625\n",
    "}\n",
    "runtimes_8 = {\n",
    "    \"MR_Quarkyonia_300.00_0.19.dat\": 0.0004279613494873047,\n",
    "    \"MR_Quarkyonia_321.05_0.28.dat\": 0.0004076957702636719,\n",
    "    \"MR_Quarkyonia_352.63_0.14.dat\": 0.00039505958557128906,\n",
    "    \"MR_Quarkyonia_373.68_0.23.dat\": 0.0004909038543701172,\n",
    "    \"MR_Quarkyonia_405.26_0.10.dat\": 0.00037407875061035156,\n",
    "    \"MR_Quarkyonia_426.32_0.19.dat\": 0.00040221214294433594,\n",
    "    \"MR_Quarkyonia_447.37_0.28.dat\": 0.00039768218994140625,\n",
    "    \"MR_Quarkyonia_478.95_0.14.dat\": 0.000408172607421875,\n",
    "    \"MR_Quarkyonia_500.00_0.23.dat\": 0.0003898143768310547\n",
    "}\n",
    "runtimes_9 = {\n",
    "    \"MR_Quarkyonia_300.00_0.19.dat\": 0.0003991127014160156,\n",
    "    \"MR_Quarkyonia_321.05_0.28.dat\": 0.00038886070251464844,\n",
    "    \"MR_Quarkyonia_352.63_0.14.dat\": 0.00039696693420410156,\n",
    "    \"MR_Quarkyonia_373.68_0.23.dat\": 0.0007238388061523438,\n",
    "    \"MR_Quarkyonia_405.26_0.10.dat\": 0.0003750324249267578,\n",
    "    \"MR_Quarkyonia_426.32_0.19.dat\": 0.0004749298095703125,\n",
    "    \"MR_Quarkyonia_447.37_0.28.dat\": 0.0004000663757324219,\n",
    "    \"MR_Quarkyonia_478.95_0.14.dat\": 0.0003898143768310547,\n",
    "    \"MR_Quarkyonia_500.00_0.23.dat\": 0.00046896934509277344\n",
    "}"
   ]
  },
  {
   "cell_type": "code",
   "execution_count": 6,
   "metadata": {},
   "outputs": [
    {
     "name": "stdout",
     "output_type": "stream",
     "text": [
      "median runtime = 3.822e-04\n",
      "median runtime = 4.051e-04\n",
      "median runtime = 4.361e-04\n",
      "median runtime = 4.261e-04\n",
      "median runtime = 3.898e-04\n",
      "4.078388214111328\n"
     ]
    }
   ],
   "source": [
    "lines = np.array([0, 2, 4, 6, 8])  # from plot\n",
    "\n",
    "parametric_runetimes = np.zeros((10, 5))\n",
    "j = 0\n",
    "for i in np.arange(parametric_runetimes.shape[0]):\n",
    "    if i in lines:\n",
    "        parametric_runetimes[:, j] = eval(f\"list(runtimes_{i}.values())[i]\")\n",
    "        j += 1\n",
    "\n",
    "for runtime in np.median(parametric_runetimes, axis=0):\n",
    "    print(f\"median runtime = {runtime:.3e}\")\n",
    "print(np.mean(np.median(parametric_runetimes, axis=0)) * 1e4)"
   ]
  },
  {
   "cell_type": "code",
   "execution_count": null,
   "metadata": {},
   "outputs": [],
   "source": []
  },
  {
   "cell_type": "code",
   "execution_count": 7,
   "metadata": {},
   "outputs": [
    {
     "data": {
      "text/plain": [
       "42278.09837867546"
      ]
     },
     "execution_count": 7,
     "metadata": {},
     "output_type": "execute_result"
    }
   ],
   "source": [
    "np.mean([9.218, 9.237, 9.226, 9.246, 9.228]) / (np.mean([2.135, 2.149, 2.319, 2.099, 2.215]) * 1e-4)"
   ]
  },
  {
   "cell_type": "code",
   "execution_count": 8,
   "metadata": {},
   "outputs": [
    {
     "name": "stdout",
     "output_type": "stream",
     "text": [
      "2.9518e+04\n"
     ]
    }
   ],
   "source": [
    "np.mean([9.218, 9.237, 9.226, 9.246, 9.228, \n",
    "         9.286, 9.299, 9.234, 9.292, 9.156]) / \\\n",
    "(np.mean([2.135, 2.149, 2.319, 2.099, 2.215,\n",
    "          3.822, 4.051, 4.361, 4.261, 3.898]) * 1e-4)\n",
    "\n",
    "print(f\"{np.mean([9.218, 9.237, 9.226, 9.246, 9.228, 9.286, 9.299, 9.234, 9.292, 9.156]) / (np.mean([2.135, 2.149, 2.319, 2.099, 2.215, 3.822, 4.051, 4.361, 4.261, 3.898]) * 1e-4):.4e}\")"
   ]
  },
  {
   "cell_type": "code",
   "execution_count": 9,
   "metadata": {},
   "outputs": [
    {
     "name": "stdout",
     "output_type": "stream",
     "text": [
      "2.2688e+04\n"
     ]
    }
   ],
   "source": [
    "np.mean([9.286, 9.299, 9.234, 9.292, 9.156]) / \\\n",
    "(np.mean([3.822, 4.051, 4.361, 4.261, 3.898]) * 1e-4)\n",
    "\n",
    "print(f\"{np.mean([9.286, 9.299, 9.234, 9.292, 9.156]) / (np.mean([3.822, 4.051, 4.361, 4.261, 3.898]) * 1e-4):.4e}\")"
   ]
  },
  {
   "cell_type": "code",
   "execution_count": null,
   "metadata": {},
   "outputs": [],
   "source": []
  },
  {
   "cell_type": "code",
   "execution_count": null,
   "metadata": {},
   "outputs": [],
   "source": []
  }
 ],
 "metadata": {
  "kernelspec": {
   "display_name": "base",
   "language": "python",
   "name": "python3"
  },
  "language_info": {
   "codemirror_mode": {
    "name": "ipython",
    "version": 3
   },
   "file_extension": ".py",
   "mimetype": "text/x-python",
   "name": "python",
   "nbconvert_exporter": "python",
   "pygments_lexer": "ipython3",
   "version": "3.10.9"
  }
 },
 "nbformat": 4,
 "nbformat_minor": 2
}
