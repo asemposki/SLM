{
 "cells": [
  {
   "cell_type": "code",
   "execution_count": 1,
   "metadata": {},
   "outputs": [],
   "source": [
    "import numpy as np\n",
    "import time\n",
    "\n",
    "import TOV_class"
   ]
  },
  {
   "cell_type": "code",
   "execution_count": 2,
   "metadata": {},
   "outputs": [
    {
     "name": "stdout",
     "output_type": "stream",
     "text": [
      "Woo it worked!\n",
      "Max mass:  2.2254711380752528 Radius:  10.1800776392 Central pressure:  1005.1756033066393\n",
      "9.3579683303833\n",
      "Woo it worked!\n",
      "Max mass:  2.2254711380752528 Radius:  10.1800776392 Central pressure:  1005.1756033066393\n",
      "9.311920166015625\n",
      "Woo it worked!\n",
      "Max mass:  2.2254711380752528 Radius:  10.1800776392 Central pressure:  1005.1756033066393\n",
      "9.268178939819336\n",
      "Woo it worked!\n",
      "Max mass:  2.2254711380752528 Radius:  10.1800776392 Central pressure:  1005.1756033066393\n",
      "9.421236991882324\n",
      "Woo it worked!\n",
      "Max mass:  2.2254711380752528 Radius:  10.1800776392 Central pressure:  1005.1756033066393\n",
      "9.243950843811035\n",
      "Woo it worked!\n",
      "Max mass:  2.2254711380752528 Radius:  10.1800776392 Central pressure:  1005.1756033066393\n",
      "9.298583030700684\n",
      "Woo it worked!\n",
      "Max mass:  2.2254711380752528 Radius:  10.1800776392 Central pressure:  1005.1756033066393\n",
      "9.2554349899292\n",
      "Woo it worked!\n",
      "Max mass:  2.2254711380752528 Radius:  10.1800776392 Central pressure:  1005.1756033066393\n",
      "9.289852857589722\n",
      "Woo it worked!\n",
      "Max mass:  2.2254711380752528 Radius:  10.1800776392 Central pressure:  1005.1756033066393\n",
      "9.281383991241455\n",
      "Woo it worked!\n",
      "Max mass:  2.2254711380752528 Radius:  10.1800776392 Central pressure:  1005.1756033066393\n",
      "9.307379007339478\n"
     ]
    }
   ],
   "source": [
    "number_of_solves = 10\n",
    "\n",
    "time_array = []\n",
    "for i in np.arange(number_of_solves):\n",
    "    tov = TOV_class.TOVsolver(\"./../EOS_files/Quarkies/EOS_Quarkyonia_500.00_0.23.dat\", True)\n",
    "    \n",
    "    time_initial = time.time()\n",
    "    tov.tov_routine(verbose=False, write_to_file=False)\n",
    "    time_final = time.time()\n",
    "    \n",
    "    print(time_final - time_initial)\n",
    "    time_array.append(time_final - time_initial)\n",
    "\n",
    "time_array = np.array(time_array)"
   ]
  },
  {
   "cell_type": "code",
   "execution_count": 3,
   "metadata": {},
   "outputs": [
    {
     "data": {
      "text/plain": [
       "9.294217944145203"
      ]
     },
     "execution_count": 3,
     "metadata": {},
     "output_type": "execute_result"
    }
   ],
   "source": [
    "np.median(time_array)"
   ]
  },
  {
   "cell_type": "code",
   "execution_count": null,
   "metadata": {},
   "outputs": [],
   "source": []
  },
  {
   "cell_type": "code",
   "execution_count": null,
   "metadata": {},
   "outputs": [],
   "source": []
  },
  {
   "cell_type": "markdown",
   "metadata": {},
   "source": [
    "## SLM runtimes"
   ]
  },
  {
   "cell_type": "code",
   "execution_count": 10,
   "metadata": {},
   "outputs": [],
   "source": [
    "runtimes_0 = {\n",
    "    \"MR_Quarkyonia_300.00_0.19.dat\": 0.0006866455078125,\n",
    "    \"MR_Quarkyonia_321.05_0.28.dat\": 0.0006799697875976562,\n",
    "    \"MR_Quarkyonia_352.63_0.14.dat\": 0.0006883144378662109,\n",
    "    \"MR_Quarkyonia_373.68_0.23.dat\": 0.0008678436279296875,\n",
    "    \"MR_Quarkyonia_405.26_0.10.dat\": 0.0007319450378417969,\n",
    "    \"MR_Quarkyonia_426.32_0.19.dat\": 0.0007109642028808594,\n",
    "    \"MR_Quarkyonia_447.37_0.28.dat\": 0.0006768703460693359,\n",
    "    \"MR_Quarkyonia_478.95_0.14.dat\": 0.0007050037384033203,\n",
    "    \"MR_Quarkyonia_500.00_0.23.dat\": 0.0006909370422363281\n",
    "}\n",
    "runtimes_1 = {\n",
    "    \"MR_Quarkyonia_300.00_0.19.dat\": 0.0006780624389648438,\n",
    "    \"MR_Quarkyonia_321.05_0.28.dat\": 0.0006747245788574219,\n",
    "    \"MR_Quarkyonia_352.63_0.14.dat\": 0.0006749629974365234,\n",
    "    \"MR_Quarkyonia_373.68_0.23.dat\": 0.0008540153503417969,\n",
    "    \"MR_Quarkyonia_405.26_0.10.dat\": 0.0006639957427978516,\n",
    "    \"MR_Quarkyonia_426.32_0.19.dat\": 0.0007097721099853516,\n",
    "    \"MR_Quarkyonia_447.37_0.28.dat\": 0.0006701946258544922,\n",
    "    \"MR_Quarkyonia_478.95_0.14.dat\": 0.0006730556488037109,\n",
    "    \"MR_Quarkyonia_500.00_0.23.dat\": 0.0006859302520751953\n",
    "}\n",
    "runtimes_2 = {\n",
    "    \"MR_Quarkyonia_300.00_0.19.dat\": 0.0006871223449707031,\n",
    "    \"MR_Quarkyonia_321.05_0.28.dat\": 0.0006921291351318359,\n",
    "    \"MR_Quarkyonia_352.63_0.14.dat\": 0.0006897449493408203,\n",
    "    \"MR_Quarkyonia_373.68_0.23.dat\": 0.0008530616760253906,\n",
    "    \"MR_Quarkyonia_405.26_0.10.dat\": 0.0007231235504150391,\n",
    "    \"MR_Quarkyonia_426.32_0.19.dat\": 0.0007150173187255859,\n",
    "    \"MR_Quarkyonia_447.37_0.28.dat\": 0.0006768703460693359,\n",
    "    \"MR_Quarkyonia_478.95_0.14.dat\": 0.0008602142333984375,\n",
    "    \"MR_Quarkyonia_500.00_0.23.dat\": 0.0006928443908691406\n",
    "}\n",
    "runtimes_3 = {\n",
    "    \"MR_Quarkyonia_300.00_0.19.dat\": 0.0007290840148925781,\n",
    "    \"MR_Quarkyonia_321.05_0.28.dat\": 0.000858306884765625,\n",
    "    \"MR_Quarkyonia_352.63_0.14.dat\": 0.0006966590881347656,\n",
    "    \"MR_Quarkyonia_373.68_0.23.dat\": 0.0008749961853027344,\n",
    "    \"MR_Quarkyonia_405.26_0.10.dat\": 0.0007302761077880859,\n",
    "    \"MR_Quarkyonia_426.32_0.19.dat\": 0.0007281303405761719,\n",
    "    \"MR_Quarkyonia_447.37_0.28.dat\": 0.0006940364837646484,\n",
    "    \"MR_Quarkyonia_478.95_0.14.dat\": 0.0007021427154541016,\n",
    "    \"MR_Quarkyonia_500.00_0.23.dat\": 0.0006949901580810547\n",
    "}\n",
    "runtimes_4 = {\n",
    "    \"MR_Quarkyonia_300.00_0.19.dat\": 0.0007588863372802734,\n",
    "    \"MR_Quarkyonia_321.05_0.28.dat\": 0.0008549690246582031,\n",
    "    \"MR_Quarkyonia_352.63_0.14.dat\": 0.0006957054138183594,\n",
    "    \"MR_Quarkyonia_373.68_0.23.dat\": 0.000888824462890625,\n",
    "    \"MR_Quarkyonia_405.26_0.10.dat\": 0.0006830692291259766,\n",
    "    \"MR_Quarkyonia_426.32_0.19.dat\": 0.0007312297821044922,\n",
    "    \"MR_Quarkyonia_447.37_0.28.dat\": 0.0006871223449707031,\n",
    "    \"MR_Quarkyonia_478.95_0.14.dat\": 0.0009379386901855469,\n",
    "    \"MR_Quarkyonia_500.00_0.23.dat\": 0.0006961822509765625\n",
    "}\n",
    "runtimes_5 = {\n",
    "    \"MR_Quarkyonia_300.00_0.19.dat\": 0.0007078647613525391,\n",
    "    \"MR_Quarkyonia_321.05_0.28.dat\": 0.0006880760192871094,\n",
    "    \"MR_Quarkyonia_352.63_0.14.dat\": 0.0007109642028808594,\n",
    "    \"MR_Quarkyonia_373.68_0.23.dat\": 0.0008697509765625,\n",
    "    \"MR_Quarkyonia_405.26_0.10.dat\": 0.0006930828094482422,\n",
    "    \"MR_Quarkyonia_426.32_0.19.dat\": 0.0007119178771972656,\n",
    "    \"MR_Quarkyonia_447.37_0.28.dat\": 0.0006840229034423828,\n",
    "    \"MR_Quarkyonia_478.95_0.14.dat\": 0.0006778240203857422,\n",
    "    \"MR_Quarkyonia_500.00_0.23.dat\": 0.0007741451263427734\n",
    "}\n",
    "runtimes_6 = {\n",
    "    \"MR_Quarkyonia_300.00_0.19.dat\": 0.0009162425994873047,\n",
    "    \"MR_Quarkyonia_321.05_0.28.dat\": 0.0006821155548095703,\n",
    "    \"MR_Quarkyonia_352.63_0.14.dat\": 0.0006849765777587891,\n",
    "    \"MR_Quarkyonia_373.68_0.23.dat\": 0.0008499622344970703,\n",
    "    \"MR_Quarkyonia_405.26_0.10.dat\": 0.0006809234619140625,\n",
    "    \"MR_Quarkyonia_426.32_0.19.dat\": 0.0007090568542480469,\n",
    "    \"MR_Quarkyonia_447.37_0.28.dat\": 0.0006740093231201172,\n",
    "    \"MR_Quarkyonia_478.95_0.14.dat\": 0.0007829666137695312,\n",
    "    \"MR_Quarkyonia_500.00_0.23.dat\": 0.0006971359252929688\n",
    "}\n",
    "runtimes_7 = {\n",
    "    \"MR_Quarkyonia_300.00_0.19.dat\": 0.0006952285766601562,\n",
    "    \"MR_Quarkyonia_321.05_0.28.dat\": 0.0006780624389648438,\n",
    "    \"MR_Quarkyonia_352.63_0.14.dat\": 0.0007061958312988281,\n",
    "    \"MR_Quarkyonia_373.68_0.23.dat\": 0.0008709430694580078,\n",
    "    \"MR_Quarkyonia_405.26_0.10.dat\": 0.0007228851318359375,\n",
    "    \"MR_Quarkyonia_426.32_0.19.dat\": 0.0007212162017822266,\n",
    "    \"MR_Quarkyonia_447.37_0.28.dat\": 0.0006799697875976562,\n",
    "    \"MR_Quarkyonia_478.95_0.14.dat\": 0.000701904296875,\n",
    "    \"MR_Quarkyonia_500.00_0.23.dat\": 0.0007150173187255859\n",
    "}\n",
    "runtimes_8 = {\n",
    "    \"MR_Quarkyonia_300.00_0.19.dat\": 0.0007507801055908203,\n",
    "    \"MR_Quarkyonia_321.05_0.28.dat\": 0.0008819103240966797,\n",
    "    \"MR_Quarkyonia_352.63_0.14.dat\": 0.0006499290466308594,\n",
    "    \"MR_Quarkyonia_373.68_0.23.dat\": 0.000823974609375,\n",
    "    \"MR_Quarkyonia_405.26_0.10.dat\": 0.0007233619689941406,\n",
    "    \"MR_Quarkyonia_426.32_0.19.dat\": 0.0006787776947021484,\n",
    "    \"MR_Quarkyonia_447.37_0.28.dat\": 0.0007078647613525391,\n",
    "    \"MR_Quarkyonia_478.95_0.14.dat\": 0.0007112026214599609,\n",
    "    \"MR_Quarkyonia_500.00_0.23.dat\": 0.0006520748138427734\n",
    "}\n",
    "runtimes_9 = {\n",
    "    \"MR_Quarkyonia_300.00_0.19.dat\": 0.0006818771362304688,\n",
    "    \"MR_Quarkyonia_321.05_0.28.dat\": 0.0006809234619140625,\n",
    "    \"MR_Quarkyonia_352.63_0.14.dat\": 0.0006840229034423828,\n",
    "    \"MR_Quarkyonia_373.68_0.23.dat\": 0.0008571147918701172,\n",
    "    \"MR_Quarkyonia_405.26_0.10.dat\": 0.0006709098815917969,\n",
    "    \"MR_Quarkyonia_426.32_0.19.dat\": 0.0007202625274658203,\n",
    "    \"MR_Quarkyonia_447.37_0.28.dat\": 0.0006771087646484375,\n",
    "    \"MR_Quarkyonia_478.95_0.14.dat\": 0.000675201416015625,\n",
    "    \"MR_Quarkyonia_500.00_0.23.dat\": 0.0006928443908691406\n",
    "}"
   ]
  },
  {
   "cell_type": "code",
   "execution_count": 21,
   "metadata": {},
   "outputs": [
    {
     "name": "stdout",
     "output_type": "stream",
     "text": [
      "median runtime = 6.866e-04\n",
      "median runtime = 6.897e-04\n",
      "median runtime = 6.831e-04\n",
      "median runtime = 6.740e-04\n",
      "median runtime = 6.521e-04\n"
     ]
    }
   ],
   "source": [
    "lines = np.array([0, 2, 4, 6, 8])  # from plot\n",
    "\n",
    "parametric_runetimes = np.zeros((10, 5))\n",
    "j = 0\n",
    "for i in np.arange(parametric_runetimes.shape[0]):\n",
    "    if i in lines:\n",
    "        parametric_runetimes[:, j] = eval(f\"list(runtimes_{i}.values())[i]\")\n",
    "        j += 1\n",
    "\n",
    "for runtime in np.median(parametric_runetimes, axis=0):\n",
    "    print(f\"median runtime = {runtime:.3e}\")"
   ]
  },
  {
   "cell_type": "code",
   "execution_count": null,
   "metadata": {},
   "outputs": [],
   "source": []
  }
 ],
 "metadata": {
  "kernelspec": {
   "display_name": "base",
   "language": "python",
   "name": "python3"
  },
  "language_info": {
   "codemirror_mode": {
    "name": "ipython",
    "version": 3
   },
   "file_extension": ".py",
   "mimetype": "text/x-python",
   "name": "python",
   "nbconvert_exporter": "python",
   "pygments_lexer": "ipython3",
   "version": "3.10.9"
  }
 },
 "nbformat": 4,
 "nbformat_minor": 2
}
