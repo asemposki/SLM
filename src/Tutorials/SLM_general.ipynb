{
 "cells": [
  {
   "cell_type": "markdown",
   "metadata": {},
   "source": [
    "# Star Log-extended eMulation: a general overview\n",
    "\n",
    "## Authors: Sudhanva Lalit, Alexandra C. Semposki, Joshua M. Maldonado\n",
    "\n",
    "### Date last edited: 30 October 2024\n",
    "\n",
    "In this tutorial notebook, we outline the use of our package `SLM` and show its power using the Sly4 equation of state (EOS). This notebook reproduces Figs. 1 and 2 in our accompanying paper."
   ]
  },
  {
   "cell_type": "code",
   "execution_count": null,
   "metadata": {},
   "outputs": [],
   "source": [
    "# import packages\n",
    "#[include autoreload here]\n",
    "\n",
    "import numpy as np \n",
    "from scipy.interpolate import interp1d \n",
    "import matplotlib.pyplot as plt\n",
    "\n",
    "# install the SLM package from source (potentially)\n",
    "# "
   ]
  }
 ],
 "metadata": {
  "kernelspec": {
   "display_name": "base",
   "language": "python",
   "name": "python3"
  },
  "language_info": {
   "name": "python",
   "version": "3.11.9"
  }
 },
 "nbformat": 4,
 "nbformat_minor": 2
}
