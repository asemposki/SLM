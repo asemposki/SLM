{
 "cells": [
  {
   "cell_type": "markdown",
   "metadata": {},
   "source": [
    "# Parametric Star Log-extended eMulation\n",
    "\n",
    "## Authors: Sudhanva Lalit, Alexandra C. Semposki, Joshua M. Maldonado\n",
    "\n",
    "### Date last edited: 30 October 2024\n",
    "\n",
    "In this notebook, we will demonstrate the use of the parametric component of our `SLM` package on the 2-parameter quarkyonic EOS. We will then compare to the high-fidelity solutions calculated using the standard RK4 method. This notebooks reproduces Fig. 3 from our accompanying paper."
   ]
  },
  {
   "cell_type": "code",
   "execution_count": 1,
   "metadata": {},
   "outputs": [],
   "source": [
    "# import relevant packages\n",
    "import numpy as np \n",
    "import matplotlib.pyplot as plt\n",
    "\n",
    "# install the package from source\n",
    "# SLM goes here"
   ]
  }
 ],
 "metadata": {
  "kernelspec": {
   "display_name": "base",
   "language": "python",
   "name": "python3"
  },
  "language_info": {
   "codemirror_mode": {
    "name": "ipython",
    "version": 3
   },
   "file_extension": ".py",
   "mimetype": "text/x-python",
   "name": "python",
   "nbconvert_exporter": "python",
   "pygments_lexer": "ipython3",
   "version": "3.11.9"
  }
 },
 "nbformat": 4,
 "nbformat_minor": 2
}
